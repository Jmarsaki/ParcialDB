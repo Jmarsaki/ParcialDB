{
 "cells": [
  {
   "cell_type": "markdown",
   "source": [
    "## Base de datos Parcial Sql, NoSql - Python - Fecha:07/06/2021\n",
    "\n",
    "https://www.mongodb.com/es/nosql-explained"
   ],
   "metadata": {}
  },
  {
   "cell_type": "markdown",
   "source": [
    "Nombre y Apellido:  JULIO MARIANO SACHI"
   ],
   "metadata": {}
  },
  {
   "cell_type": "code",
   "execution_count": null,
   "source": [],
   "outputs": [],
   "metadata": {}
  },
  {
   "cell_type": "markdown",
   "source": [
    "## Tomando como base el diagrama entidad relación de la figura superior, responder\n",
    "\n",
    "escribir las sentencias en sql"
   ],
   "metadata": {}
  },
  {
   "cell_type": "markdown",
   "source": [
    "### 1er Ejercicio\n",
    "\n",
    "Obtener los datos completos de los empleados."
   ],
   "metadata": {}
  },
  {
   "cell_type": "code",
   "execution_count": null,
   "source": [],
   "outputs": [],
   "metadata": {}
  },
  {
   "cell_type": "markdown",
   "source": [
    "### 2do Ejercicio\n",
    "\n",
    "Obtener los datos completos de los departamentos."
   ],
   "metadata": {}
  },
  {
   "cell_type": "code",
   "execution_count": null,
   "source": [],
   "outputs": [],
   "metadata": {}
  },
  {
   "cell_type": "markdown",
   "source": [
    "### 3er Ejercicio\n",
    "\n",
    "Obtener la cantidad de empleados de sexo femnino."
   ],
   "metadata": {}
  },
  {
   "cell_type": "code",
   "execution_count": null,
   "source": [],
   "outputs": [],
   "metadata": {}
  },
  {
   "cell_type": "markdown",
   "source": [
    "### 4to Ejercicio\n",
    "\n",
    "Obtener los empleados que son o han sido \"staff\". Recordar que es una consulta multi tablas."
   ],
   "metadata": {}
  },
  {
   "cell_type": "code",
   "execution_count": null,
   "source": [],
   "outputs": [],
   "metadata": {}
  },
  {
   "cell_type": "markdown",
   "source": [
    "### 5to Ejercicio\n",
    "\n",
    "Agregar el departamento Cienca de Datos."
   ],
   "metadata": {}
  },
  {
   "cell_type": "code",
   "execution_count": null,
   "source": [],
   "outputs": [],
   "metadata": {}
  },
  {
   "cell_type": "markdown",
   "source": [
    "### 6to Ejercicio\n",
    "\n",
    "Agregar el empleado \"Pepe\" y hacerlo jefe (\"manager\") del departamento Cienca de Datos."
   ],
   "metadata": {}
  },
  {
   "cell_type": "code",
   "execution_count": null,
   "source": [],
   "outputs": [],
   "metadata": {}
  },
  {
   "cell_type": "markdown",
   "source": [
    "### 7mo Ejercicio\n",
    "\n",
    "Borrar el empleado \"Pepe\"."
   ],
   "metadata": {}
  },
  {
   "cell_type": "code",
   "execution_count": null,
   "source": [],
   "outputs": [],
   "metadata": {}
  },
  {
   "cell_type": "markdown",
   "source": [
    "### 8vo Ejercicio\n",
    "\n",
    "Obtener el promedio de salarios por departamento."
   ],
   "metadata": {}
  },
  {
   "cell_type": "code",
   "execution_count": null,
   "source": [],
   "outputs": [],
   "metadata": {}
  },
  {
   "cell_type": "markdown",
   "source": [
    "### 9no Ejercicio\n",
    "\n",
    "Compartir el código en Python para crear en MongoDB una base de datos denominada \"weatherHistory\" y una colección con el mismo nombre. Cargar los datos del archivo csv denominado weatherHistory.csv\n"
   ],
   "metadata": {}
  },
  {
   "cell_type": "code",
   "execution_count": null,
   "source": [],
   "outputs": [],
   "metadata": {}
  },
  {
   "cell_type": "markdown",
   "source": [
    "### 10mo Ejercicio\n",
    "\n",
    "Compartir el código en en Python que devuelva la cantidad de registros insertados en la colección anterior.\n"
   ],
   "metadata": {}
  },
  {
   "cell_type": "code",
   "execution_count": null,
   "source": [],
   "outputs": [],
   "metadata": {}
  }
 ],
 "metadata": {
  "kernelspec": {
   "display_name": "Python 3",
   "language": "python",
   "name": "python3"
  },
  "language_info": {
   "codemirror_mode": {
    "name": "ipython",
    "version": 3
   },
   "file_extension": ".py",
   "mimetype": "text/x-python",
   "name": "python",
   "nbconvert_exporter": "python",
   "pygments_lexer": "ipython3",
   "version": "3.7.6"
  }
 },
 "nbformat": 4,
 "nbformat_minor": 4
}